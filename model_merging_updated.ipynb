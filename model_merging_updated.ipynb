{
 "cells": [
  {
   "cell_type": "code",
   "execution_count": null,
   "id": "ec5ca189-1737-4f53-b905-12daa1330ab5",
   "metadata": {},
   "outputs": [],
   "source": [
    "!python -m pip install --upgrade pip"
   ]
  },
  {
   "cell_type": "code",
   "execution_count": 1,
   "id": "f60ce97f-b7d1-4941-a07f-e7c1d41d5f4e",
   "metadata": {},
   "outputs": [
    {
     "name": "stdout",
     "output_type": "stream",
     "text": [
      "/root/mergekit\n"
     ]
    }
   ],
   "source": [
    "%cd mergekit"
   ]
  },
  {
   "cell_type": "code",
   "execution_count": null,
   "id": "d54f40e5-6dee-4317-9eb4-b5902fbb59a7",
   "metadata": {},
   "outputs": [],
   "source": [
    "!pip install -q -e .\n",
    "!pip install -qU transformers huggingface_hub PyYAML"
   ]
  },
  {
   "cell_type": "code",
   "execution_count": 5,
   "id": "85d86fd8-f00e-4a25-a995-7c93b727c7b3",
   "metadata": {},
   "outputs": [
    {
     "name": "stdout",
     "output_type": "stream",
     "text": [
      "Writing YAML config to 'config.yaml'...\n",
      "File 'config.yaml' written successfully.\n"
     ]
    }
   ],
   "source": [
    "###Using Slerp\n",
    "# import yaml\n",
    "\n",
    "# MODEL_NAME = \"Zephyr 7B Alpha modified\"\n",
    "# yaml_config = \"\"\"\n",
    "#  slices:\n",
    "#    - sources:\n",
    "#        - model: HuggingFaceH4/zephyr-7b-alpha\n",
    "#          layer_range: [0, 32]\n",
    "#        - model: HuggingFaceH4/zephyr-7b-beta\n",
    "#          layer_range: [0, 32]\n",
    "#  merge_method: slerp\n",
    "#  base_model: HuggingFaceH4/zephyr-7b-alpha\n",
    "#  parameters:\n",
    "#    t:\n",
    "#      - filter: self_attn\n",
    "#        value: [0, 0.5, 0.3, 0.7, 1]\n",
    "#      - filter: mlp\n",
    "#        value: [1, 0.5, 0.7, 0.3, 0]\n",
    "#      - value: 0.5\n",
    "#  dtype: bfloat16\n",
    "\n",
    "# \"\"\"\n",
    "\n",
    "# print(\"Writing YAML config to 'config.yaml'...\")\n",
    "\n",
    "# try:\n",
    "#    with open('config.yaml', 'w', encoding=\"utf-8\") as f:\n",
    "#        f.write(yaml_config)\n",
    "#    print(\"File 'config.yaml' written successfully.\")\n",
    "# except Exception as e:\n",
    "#    print(f\"Error writing file: {e}\")\n",
    "\n",
    "###Using Task-Arithmetic\n",
    "import yaml\n",
    "\n",
    "MODEL_NAME = \"Zephyr 7B Alpha + Zephyr 7B Beta_Merged using task arithmetic\"\n",
    "\n",
    "yaml_config = \"\"\"\n",
    "dtype: bfloat16\n",
    "merge_method: task_arithmetic\n",
    "base_model:\n",
    "  model: HuggingFaceH4/zephyr-7b-beta\n",
    "slices:\n",
    "  - sources:\n",
    "      - layer_range: [0, 32]\n",
    "        model: HuggingFaceH4/zephyr-7b-alpha\n",
    "        parameters:\n",
    "          weight: 0.25\n",
    "      - layer_range: [0, 32]\n",
    "        model: meta-llama/Llama-2-7b-hf\n",
    "        parameters:\n",
    "          weight: 0.25\n",
    "      - layer_range: [0, 32]\n",
    "        model: mistralai/Mistral-7B-v0.1\n",
    "        parameters:\n",
    "          weight: 0.25\n",
    "      - layer_range: [0, 32]\n",
    "        model: HuggingFaceH4/zephyr-7b-beta\n",
    "        parameters:\n",
    "          weight: 0.25\n",
    "          \n",
    "\"\"\"\n",
    "\n",
    "print(\"Writing YAML config to 'config.yaml'...\")\n",
    "try:\n",
    "    with open('config.yaml', 'w', encoding=\"utf-8\") as f:\n",
    "        f.write(yaml_config)\n",
    "    print(\"File 'config.yaml' written successfully.\")\n",
    "except Exception as e:\n",
    "    print(f\"Error writing file: {e}\")"
   ]
  },
  {
   "cell_type": "code",
   "execution_count": 6,
   "id": "c19a7e26-68ee-490c-8ae6-e3a6bd2a3d2d",
   "metadata": {},
   "outputs": [
    {
     "name": "stdout",
     "output_type": "stream",
     "text": [
      "/usr/local/lib/python3.8/dist-packages/huggingface_hub/file_download.py:1132: FutureWarning: `resume_download` is deprecated and will be removed in version 1.0.0. Downloads always resume when possible. If you want to force a new download, use `force_download=True`.\n",
      "  warnings.warn(\n",
      "Warmup loader cache:   0%|                                | 0/2 [00:00<?, ?it/s]\n",
      "Fetching 21 files: 100%|█████████████████████| 21/21 [00:00<00:00, 16876.87it/s]\u001b[A\n",
      "Warmup loader cache:  50%|████████████            | 1/2 [00:00<00:00,  7.70it/s]\n",
      "Fetching 21 files: 100%|█████████████████████| 21/21 [00:00<00:00, 11430.10it/s]\u001b[A\n",
      "Warmup loader cache: 100%|████████████████████████| 2/2 [00:00<00:00,  7.50it/s]\n",
      "Executing graph: 100%|██████████████████████| 1457/1457 [00:24<00:00, 58.98it/s]\n",
      "/usr/local/lib/python3.8/dist-packages/huggingface_hub/file_download.py:1132: FutureWarning: `resume_download` is deprecated and will be removed in version 1.0.0. Downloads always resume when possible. If you want to force a new download, use `force_download=True`.\n",
      "  warnings.warn(\n"
     ]
    }
   ],
   "source": [
    "!mergekit-yaml config.yaml merge --copy-tokenizer --allow-crimes --out-shard-size 1B --lazy-unpickle --trust-remote-code "
   ]
  }
 ],
 "metadata": {
  "kernelspec": {
   "display_name": "Python 3 (ipykernel)",
   "language": "python",
   "name": "python3"
  },
  "language_info": {
   "codemirror_mode": {
    "name": "ipython",
    "version": 3
   },
   "file_extension": ".py",
   "mimetype": "text/x-python",
   "name": "python",
   "nbconvert_exporter": "python",
   "pygments_lexer": "ipython3",
   "version": "3.8.10"
  }
 },
 "nbformat": 4,
 "nbformat_minor": 5
}
